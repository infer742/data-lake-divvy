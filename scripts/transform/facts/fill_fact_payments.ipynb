{
 "cells": [
  {
   "cell_type": "code",
   "execution_count": null,
   "metadata": {
    "application/vnd.databricks.v1+cell": {
     "cellMetadata": {},
     "inputWidgets": {},
     "nuid": "6133b5ec-ac47-4f2e-ad6c-1b5fe1b233cf",
     "showTitle": false,
     "title": ""
    }
   },
   "outputs": [],
   "source": [
    "from pyspark.sql.functions import sha2, encode"
   ]
  },
  {
   "cell_type": "code",
   "execution_count": null,
   "metadata": {
    "application/vnd.databricks.v1+cell": {
     "cellMetadata": {
      "byteLimit": 2048000,
      "implicitDf": true,
      "rowLimit": 10000
     },
     "inputWidgets": {},
     "nuid": "f345b169-a139-4c9f-95a8-fdfbbe66dc52",
     "showTitle": true,
     "title": ""
    }
   },
   "outputs": [],
   "source": [
    "%sql\n",
    "insert into fact_payment\n",
    "(\n",
    "  select distinct payments.payment_id as id,\n",
    "  sha2(encode(date, \"UTF-8\"), 224) as payment_date_id,\n",
    "  payments.amount,\n",
    "  riders.rider_id\n",
    "  from payments\n",
    "  join riders on (payments.rider_id = riders.rider_id)\n",
    "  join trips on (riders.rider_id = trips.rider_id)\n",
    ")"
   ]
  },
  {
   "cell_type": "code",
   "execution_count": null,
   "metadata": {
    "application/vnd.databricks.v1+cell": {
     "cellMetadata": {
      "byteLimit": 2048000,
      "implicitDf": true,
      "rowLimit": 10000
     },
     "inputWidgets": {},
     "nuid": "a433b971-b19e-4215-8554-315d0f39f300",
     "showTitle": false,
     "title": ""
    }
   },
   "outputs": [],
   "source": [
    "%sql \n",
    "select * from fact_payment limit 10"
   ]
  }
 ],
 "metadata": {
  "application/vnd.databricks.v1+notebook": {
   "dashboards": [],
   "language": "python",
   "notebookMetadata": {
    "mostRecentlyExecutedCommandWithImplicitDF": {
     "commandId": 2043866835752494,
     "dataframes": [
      "_sqldf"
     ]
    },
    "pythonIndentUnit": 4
   },
   "notebookName": "fill_fact_payments",
   "widgets": {}
  },
  "language_info": {
   "name": "python"
  }
 },
 "nbformat": 4,
 "nbformat_minor": 0
}
