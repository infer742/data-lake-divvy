{
 "cells": [
  {
   "cell_type": "code",
   "execution_count": null,
   "metadata": {
    "application/vnd.databricks.v1+cell": {
     "cellMetadata": {},
     "inputWidgets": {},
     "nuid": "6133b5ec-ac47-4f2e-ad6c-1b5fe1b233cf",
     "showTitle": false,
     "title": ""
    }
   },
   "outputs": [],
   "source": [
    "from pyspark.sql.functions import sha2, encode"
   ]
  },
  {
   "cell_type": "code",
   "execution_count": null,
   "metadata": {
    "application/vnd.databricks.v1+cell": {
     "cellMetadata": {
      "byteLimit": 2048000,
      "implicitDf": true,
      "rowLimit": 10000
     },
     "inputWidgets": {},
     "nuid": "f345b169-a139-4c9f-95a8-fdfbbe66dc52",
     "showTitle": true,
     "title": ""
    }
   },
   "outputs": [
    {
     "data": {
      "text/html": [
       "<style scoped>\n",
       "  .table-result-container {\n",
       "    max-height: 300px;\n",
       "    overflow: auto;\n",
       "  }\n",
       "  table, th, td {\n",
       "    border: 1px solid black;\n",
       "    border-collapse: collapse;\n",
       "  }\n",
       "  th, td {\n",
       "    padding: 5px;\n",
       "  }\n",
       "  th {\n",
       "    text-align: left;\n",
       "  }\n",
       "</style><div class='table-result-container'><table class='table-result'><thead style='background-color: white'><tr><th>num_affected_rows</th><th>num_inserted_rows</th></tr></thead><tbody><tr><td>975971</td><td>975971</td></tr></tbody></table></div>"
      ]
     },
     "metadata": {
      "application/vnd.databricks.v1+output": {
       "addedWidgets": {},
       "aggData": [],
       "aggError": "",
       "aggOverflow": false,
       "aggSchema": [],
       "aggSeriesLimitReached": false,
       "aggType": "",
       "arguments": {},
       "columnCustomDisplayInfos": {},
       "data": [
        [
         975971,
         975971
        ]
       ],
       "datasetInfos": [],
       "dbfsResultPath": null,
       "isJsonSchema": true,
       "metadata": {},
       "overflow": false,
       "plotOptions": {
        "customPlotOptions": {},
        "displayType": "table",
        "pivotAggregation": null,
        "pivotColumns": null,
        "xColumns": null,
        "yColumns": null
       },
       "removedWidgets": [],
       "schema": [
        {
         "metadata": "{}",
         "name": "num_affected_rows",
         "type": "\"long\""
        },
        {
         "metadata": "{}",
         "name": "num_inserted_rows",
         "type": "\"long\""
        }
       ],
       "type": "table"
      }
     },
     "output_type": "display_data"
    }
   ],
   "source": [
    "%sql\n",
    "insert into fact_payment\n",
    "(\n",
    "  select distinct payments.payment_id as id,\n",
    "  sha2(encode(date, \"UTF-8\"), 224) as payment_date_id,\n",
    "  payments.amount,\n",
    "  riders.rider_ids\n",
    "  from payments\n",
    "  join riders on (payments.rider_id = riders.rider_id)\n",
    "  join trips on (riders.rider_id = trips.rider_id)\n",
    ")"
   ]
  },
  {
   "cell_type": "code",
   "execution_count": null,
   "metadata": {
    "application/vnd.databricks.v1+cell": {
     "cellMetadata": {
      "byteLimit": 2048000,
      "implicitDf": true,
      "rowLimit": 10000
     },
     "inputWidgets": {},
     "nuid": "a433b971-b19e-4215-8554-315d0f39f300",
     "showTitle": false,
     "title": ""
    }
   },
   "outputs": [
    {
     "data": {
      "text/html": [
       "<style scoped>\n",
       "  .table-result-container {\n",
       "    max-height: 300px;\n",
       "    overflow: auto;\n",
       "  }\n",
       "  table, th, td {\n",
       "    border: 1px solid black;\n",
       "    border-collapse: collapse;\n",
       "  }\n",
       "  th, td {\n",
       "    padding: 5px;\n",
       "  }\n",
       "  th {\n",
       "    text-align: left;\n",
       "  }\n",
       "</style><div class='table-result-container'><table class='table-result'><thead style='background-color: white'><tr><th>id</th><th>payment_date_id</th><th>amount</th><th>rider_id</th><th>rider_age_account_start</th></tr></thead><tbody><tr><td>200582</td><td>a0a4f45b93edd5a862a37007dee49ad5bc1c14d9c7edda273417c515</td><td>9</td><td>8741</td><td>42</td></tr><tr><td>201848</td><td>f55d5af90c63d1437de0934938a188a12cd2975ba8988ff0fb8ce81e</td><td>9</td><td>8795</td><td>31</td></tr><tr><td>201948</td><td>c6d198b2ca88d1ca65806d55551230d1460b752eb92a3f8902ce662c</td><td>9</td><td>8798</td><td>31</td></tr><tr><td>202146</td><td>2a60a27d7199185c5f17be5d96b88045266d06189626bb5ffaf72123</td><td>9</td><td>8805</td><td>18</td></tr><tr><td>202565</td><td>4e5ea5a3fb1d730205fac59a6527b6a8f56f1a99a44f9cdc69e76890</td><td>9</td><td>8815</td><td>41</td></tr><tr><td>202759</td><td>f55d5af90c63d1437de0934938a188a12cd2975ba8988ff0fb8ce81e</td><td>9</td><td>8826</td><td>25</td></tr><tr><td>203317</td><td>4cf3dcf731ece17ac316fe5e7e9812f8cd938c4afc04b671438b0f4f</td><td>9</td><td>8843</td><td>40</td></tr><tr><td>203541</td><td>df38db30a5069b62e1cd05abdc272b03ebc07bc2d5e0a97d44fdb36d</td><td>9</td><td>8854</td><td>15</td></tr><tr><td>203666</td><td>6692c7766874cd7621b6b1e6acf32106d59ff1bbf6e100a455d4a1b5</td><td>9</td><td>8857</td><td>32</td></tr><tr><td>203766</td><td>b27ef28ba15c3d3f366a639c6060f4debcda559a962b7d2f70692ce1</td><td>9</td><td>8860</td><td>29</td></tr></tbody></table></div>"
      ]
     },
     "metadata": {
      "application/vnd.databricks.v1+output": {
       "addedWidgets": {},
       "aggData": [],
       "aggError": "",
       "aggOverflow": false,
       "aggSchema": [],
       "aggSeriesLimitReached": false,
       "aggType": "",
       "arguments": {},
       "columnCustomDisplayInfos": {},
       "data": [
        [
         200582,
         "a0a4f45b93edd5a862a37007dee49ad5bc1c14d9c7edda273417c515",
         "9",
         8741,
         42
        ],
        [
         201848,
         "f55d5af90c63d1437de0934938a188a12cd2975ba8988ff0fb8ce81e",
         "9",
         8795,
         31
        ],
        [
         201948,
         "c6d198b2ca88d1ca65806d55551230d1460b752eb92a3f8902ce662c",
         "9",
         8798,
         31
        ],
        [
         202146,
         "2a60a27d7199185c5f17be5d96b88045266d06189626bb5ffaf72123",
         "9",
         8805,
         18
        ],
        [
         202565,
         "4e5ea5a3fb1d730205fac59a6527b6a8f56f1a99a44f9cdc69e76890",
         "9",
         8815,
         41
        ],
        [
         202759,
         "f55d5af90c63d1437de0934938a188a12cd2975ba8988ff0fb8ce81e",
         "9",
         8826,
         25
        ],
        [
         203317,
         "4cf3dcf731ece17ac316fe5e7e9812f8cd938c4afc04b671438b0f4f",
         "9",
         8843,
         40
        ],
        [
         203541,
         "df38db30a5069b62e1cd05abdc272b03ebc07bc2d5e0a97d44fdb36d",
         "9",
         8854,
         15
        ],
        [
         203666,
         "6692c7766874cd7621b6b1e6acf32106d59ff1bbf6e100a455d4a1b5",
         "9",
         8857,
         32
        ],
        [
         203766,
         "b27ef28ba15c3d3f366a639c6060f4debcda559a962b7d2f70692ce1",
         "9",
         8860,
         29
        ]
       ],
       "datasetInfos": [],
       "dbfsResultPath": null,
       "isJsonSchema": true,
       "metadata": {},
       "overflow": false,
       "plotOptions": {
        "customPlotOptions": {},
        "displayType": "table",
        "pivotAggregation": null,
        "pivotColumns": null,
        "xColumns": null,
        "yColumns": null
       },
       "removedWidgets": [],
       "schema": [
        {
         "metadata": "{}",
         "name": "id",
         "type": "\"integer\""
        },
        {
         "metadata": "{\"__CHAR_VARCHAR_TYPE_STRING\":\"varchar(255)\"}",
         "name": "payment_date_id",
         "type": "\"string\""
        },
        {
         "metadata": "{}",
         "name": "amount",
         "type": "\"decimal(10,0)\""
        },
        {
         "metadata": "{}",
         "name": "rider_id",
         "type": "\"integer\""
        },
        {
         "metadata": "{}",
         "name": "rider_age_account_start",
         "type": "\"integer\""
        }
       ],
       "type": "table"
      }
     },
     "output_type": "display_data"
    }
   ],
   "source": [
    "%sql \n",
    "select * from fact_payment limit 10"
   ]
  },
  {
   "cell_type": "code",
   "execution_count": null,
   "metadata": {
    "application/vnd.databricks.v1+cell": {
     "cellMetadata": {
      "byteLimit": 2048000,
      "implicitDf": true,
      "rowLimit": 10000
     },
     "inputWidgets": {},
     "nuid": "be3f5f37-3fe5-4858-b07b-badb4ec9fb05",
     "showTitle": false,
     "title": ""
    }
   },
   "outputs": [
    {
     "data": {
      "text/html": [
       "<style scoped>\n",
       "  .table-result-container {\n",
       "    max-height: 300px;\n",
       "    overflow: auto;\n",
       "  }\n",
       "  table, th, td {\n",
       "    border: 1px solid black;\n",
       "    border-collapse: collapse;\n",
       "  }\n",
       "  th, td {\n",
       "    padding: 5px;\n",
       "  }\n",
       "  th {\n",
       "    text-align: left;\n",
       "  }\n",
       "</style><div class='table-result-container'><table class='table-result'><thead style='background-color: white'><tr></tr></thead><tbody></tbody></table></div>"
      ]
     },
     "metadata": {
      "application/vnd.databricks.v1+output": {
       "addedWidgets": {},
       "aggData": [],
       "aggError": "",
       "aggOverflow": false,
       "aggSchema": [],
       "aggSeriesLimitReached": false,
       "aggType": "",
       "arguments": {},
       "columnCustomDisplayInfos": {},
       "data": [],
       "datasetInfos": [],
       "dbfsResultPath": null,
       "isJsonSchema": true,
       "metadata": {},
       "overflow": false,
       "plotOptions": {
        "customPlotOptions": {},
        "displayType": "table",
        "pivotAggregation": null,
        "pivotColumns": null,
        "xColumns": null,
        "yColumns": null
       },
       "removedWidgets": [],
       "schema": [],
       "type": "table"
      }
     },
     "output_type": "display_data"
    }
   ],
   "source": [
    "%sql\n",
    "truncate table fact_payment"
   ]
  }
 ],
 "metadata": {
  "application/vnd.databricks.v1+notebook": {
   "dashboards": [],
   "language": "python",
   "notebookMetadata": {
    "mostRecentlyExecutedCommandWithImplicitDF": {
     "commandId": 2043866835752494,
     "dataframes": [
      "_sqldf"
     ]
    },
    "pythonIndentUnit": 4
   },
   "notebookName": "fill_fact_payments",
   "widgets": {}
  },
  "language_info": {
   "name": "python"
  }
 },
 "nbformat": 4,
 "nbformat_minor": 0
}
