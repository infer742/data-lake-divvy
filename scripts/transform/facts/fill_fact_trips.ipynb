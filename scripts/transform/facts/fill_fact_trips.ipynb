{
 "cells": [
  {
   "cell_type": "code",
   "execution_count": 0,
   "metadata": {
    "application/vnd.databricks.v1+cell": {
     "cellMetadata": {
      "byteLimit": 2048000,
      "implicitDf": true,
      "rowLimit": 10000
     },
     "inputWidgets": {},
     "nuid": "04d8ca06-2c5e-4174-a94d-2fb7f4072f3e",
     "showTitle": false,
     "title": ""
    }
   },
   "outputs": [
    {
     "output_type": "display_data",
     "data": {
      "text/html": [
       "<style scoped>\n",
       "  .table-result-container {\n",
       "    max-height: 300px;\n",
       "    overflow: auto;\n",
       "  }\n",
       "  table, th, td {\n",
       "    border: 1px solid black;\n",
       "    border-collapse: collapse;\n",
       "  }\n",
       "  th, td {\n",
       "    padding: 5px;\n",
       "  }\n",
       "  th {\n",
       "    text-align: left;\n",
       "  }\n",
       "</style><div class='table-result-container'><table class='table-result'><thead style='background-color: white'><tr><th>num_affected_rows</th><th>num_inserted_rows</th></tr></thead><tbody><tr><td>4584921</td><td>4584921</td></tr></tbody></table></div>"
      ]
     },
     "metadata": {
      "application/vnd.databricks.v1+output": {
       "addedWidgets": {},
       "aggData": [],
       "aggError": "",
       "aggOverflow": false,
       "aggSchema": [],
       "aggSeriesLimitReached": false,
       "aggType": "",
       "arguments": {},
       "columnCustomDisplayInfos": {},
       "data": [
        [
         4584921,
         4584921
        ]
       ],
       "datasetInfos": [],
       "dbfsResultPath": null,
       "isJsonSchema": true,
       "metadata": {},
       "overflow": false,
       "plotOptions": {
        "customPlotOptions": {},
        "displayType": "table",
        "pivotAggregation": null,
        "pivotColumns": null,
        "xColumns": null,
        "yColumns": null
       },
       "removedWidgets": [],
       "schema": [
        {
         "metadata": "{}",
         "name": "num_affected_rows",
         "type": "\"long\""
        },
        {
         "metadata": "{}",
         "name": "num_inserted_rows",
         "type": "\"long\""
        }
       ],
       "type": "table"
      }
     },
     "output_type": "display_data"
    }
   ],
   "source": [
    "%sql\n",
    "insert into fact_trip\n",
    "(\n",
    "  select t.trip_id as id,\n",
    "  t.rider_id,\n",
    "  t.start_station_id,\n",
    "  t.end_station_id,\n",
    "  sha2(encode(t.started_at, \"UTF-8\"), 224) as start_date_id,\n",
    "  sha2(encode(t.ended_at, \"UTF-8\"), 224) as end_date_id,\n",
    "  t.rideable_type,\n",
    "  decimal(datediff (minute, t.started_at, t.ended_at)) as duration,\n",
    "  int(datediff (year, r.birthday, t.started_at)) as age_of_rider\n",
    "  from trips t\n",
    "  join riders r on (t.rider_id = r.rider_id)\n",
    "  join stations start on (t.start_station_id = start.station_id)\n",
    "  join stations end on (t.end_station_id = end.station_id)\n",
    ")"
   ]
  },
  {
   "cell_type": "code",
   "execution_count": 0,
   "metadata": {
    "application/vnd.databricks.v1+cell": {
     "cellMetadata": {
      "byteLimit": 2048000,
      "implicitDf": true,
      "rowLimit": 10000
     },
     "inputWidgets": {},
     "nuid": "42e649e2-e030-4cd2-a8e6-f84472fa1d34",
     "showTitle": false,
     "title": ""
    }
   },
   "outputs": [
    {
     "output_type": "display_data",
     "data": {
      "text/html": [
       "<style scoped>\n",
       "  .table-result-container {\n",
       "    max-height: 300px;\n",
       "    overflow: auto;\n",
       "  }\n",
       "  table, th, td {\n",
       "    border: 1px solid black;\n",
       "    border-collapse: collapse;\n",
       "  }\n",
       "  th, td {\n",
       "    padding: 5px;\n",
       "  }\n",
       "  th {\n",
       "    text-align: left;\n",
       "  }\n",
       "</style><div class='table-result-container'><table class='table-result'><thead style='background-color: white'><tr><th>id</th><th>rider_id</th><th>start_station_id</th><th>end_station_id</th><th>start_date_id</th><th>end_date_id</th><th>rideable_type</th><th>duration</th><th>age_of_rider</th></tr></thead><tbody><tr><td>89E7AA6C29227EFF</td><td>71934</td><td>525</td><td>660</td><td>040f619c6f8792e123dcab0df5b8557d21a1b039096c0829d883512b</td><td>6f880f7c40ad9ea694c3f0a20b0c57318ada556f319aed7feeec5c5b</td><td>classic_bike</td><td>6</td><td>37</td></tr><tr><td>0FEFDE2603568365</td><td>47854</td><td>525</td><td>16806</td><td>cbb4ba9a1979807dc283b4443dc7da81fe73acf53e747fb6db94c3c9</td><td>f8ec51dac1ffd42c0e643a3ed92dec1e6e1cf3c453512f992a6c6aea</td><td>classic_bike</td><td>19</td><td>38</td></tr><tr><td>E6159D746B2DBB91</td><td>70870</td><td>KA1503000012</td><td>TA1305000029</td><td>14ba2fdd52fdc4d48f2c3c232722261125e4f3cc3f4c9f0fbd985712</td><td>db45cc4626c5e8067963359f3d14d1bb8de40f84ec0b2200c613b14e</td><td>electric_bike</td><td>8</td><td>33</td></tr><tr><td>B32D3199F1C2E75B</td><td>58974</td><td>637</td><td>TA1305000034</td><td>bdce5cf9403bfea2511d66fe92b427553a6bccbc5671af9753a63a3c</td><td>cc0a838fbf15fb6bf81cb6b3cf2b539ac29ff77a12be5c256b8e95a7</td><td>classic_bike</td><td>4</td><td>19</td></tr><tr><td>83E463F23575F4BF</td><td>39608</td><td>13216</td><td>TA1309000055</td><td>f0ca779dd8fc1ea5ae2ab5705ae10c8cf3f3558ee1fd1b30d2cb5043</td><td>4be5f8f6d6f67a29ed72bcafa9f2f9623e039e1db1e72766b8354b70</td><td>electric_bike</td><td>15</td><td>71</td></tr><tr><td>BDAA7E3494E8D545</td><td>36267</td><td>18003</td><td>KP1705001026</td><td>a5d76f3eb9af4b11939311f80a17c178d223e6106d61779ecedfb5eb</td><td>b3efd347dc7693745006316c1140ff008790363cfab4ec576acecaae</td><td>electric_bike</td><td>5</td><td>27</td></tr><tr><td>A772742351171257</td><td>50104</td><td>KP1705001026</td><td>KP1705001026</td><td>37aea9079debe4abbe7dc87c60d9c01c669aadc50e6b21ec17fb6dc9</td><td>9d15c45bd934a8033c40616b3ddef25c8bea28f21a01d81e53c43da0</td><td>classic_bike</td><td>0</td><td>33</td></tr><tr><td>295476889D9B79F8</td><td>19618</td><td>18003</td><td>18003</td><td>767bdcd8c407f908bceb05078816f6c1093eb8a2055a5c75886138bc</td><td>c7b694528a1bd30aefbe9b4a5df8aa72ce5bb95e9743482b56b6460e</td><td>classic_bike</td><td>1</td><td>23</td></tr><tr><td>362087194BA4CC9A</td><td>16732</td><td>KP1705001026</td><td>KP1705001026</td><td>515c207c74570ae7604f5f1691d78152f8faec96176b0ddc7cec7ded</td><td>85b89f6be54c6363dc0e430a14cf5cdb1cb540350b02372165db5b5f</td><td>classic_bike</td><td>22</td><td>19</td></tr><tr><td>21630F715038CCB0</td><td>57068</td><td>KP1705001026</td><td>KP1705001026</td><td>8984f3e053e5c7022018cbcdf95910dda4c6438f5a75b558d007a78e</td><td>2ba4d6d736aa9c5bbadf014523a953ee5e6d681b24a8c22a430d19ce</td><td>classic_bike</td><td>17</td><td>47</td></tr></tbody></table></div>"
      ]
     },
     "metadata": {
      "application/vnd.databricks.v1+output": {
       "addedWidgets": {},
       "aggData": [],
       "aggError": "",
       "aggOverflow": false,
       "aggSchema": [],
       "aggSeriesLimitReached": false,
       "aggType": "",
       "arguments": {},
       "columnCustomDisplayInfos": {},
       "data": [
        [
         "89E7AA6C29227EFF",
         71934,
         "525",
         "660",
         "040f619c6f8792e123dcab0df5b8557d21a1b039096c0829d883512b",
         "6f880f7c40ad9ea694c3f0a20b0c57318ada556f319aed7feeec5c5b",
         "classic_bike",
         "6",
         37
        ],
        [
         "0FEFDE2603568365",
         47854,
         "525",
         "16806",
         "cbb4ba9a1979807dc283b4443dc7da81fe73acf53e747fb6db94c3c9",
         "f8ec51dac1ffd42c0e643a3ed92dec1e6e1cf3c453512f992a6c6aea",
         "classic_bike",
         "19",
         38
        ],
        [
         "E6159D746B2DBB91",
         70870,
         "KA1503000012",
         "TA1305000029",
         "14ba2fdd52fdc4d48f2c3c232722261125e4f3cc3f4c9f0fbd985712",
         "db45cc4626c5e8067963359f3d14d1bb8de40f84ec0b2200c613b14e",
         "electric_bike",
         "8",
         33
        ],
        [
         "B32D3199F1C2E75B",
         58974,
         "637",
         "TA1305000034",
         "bdce5cf9403bfea2511d66fe92b427553a6bccbc5671af9753a63a3c",
         "cc0a838fbf15fb6bf81cb6b3cf2b539ac29ff77a12be5c256b8e95a7",
         "classic_bike",
         "4",
         19
        ],
        [
         "83E463F23575F4BF",
         39608,
         "13216",
         "TA1309000055",
         "f0ca779dd8fc1ea5ae2ab5705ae10c8cf3f3558ee1fd1b30d2cb5043",
         "4be5f8f6d6f67a29ed72bcafa9f2f9623e039e1db1e72766b8354b70",
         "electric_bike",
         "15",
         71
        ],
        [
         "BDAA7E3494E8D545",
         36267,
         "18003",
         "KP1705001026",
         "a5d76f3eb9af4b11939311f80a17c178d223e6106d61779ecedfb5eb",
         "b3efd347dc7693745006316c1140ff008790363cfab4ec576acecaae",
         "electric_bike",
         "5",
         27
        ],
        [
         "A772742351171257",
         50104,
         "KP1705001026",
         "KP1705001026",
         "37aea9079debe4abbe7dc87c60d9c01c669aadc50e6b21ec17fb6dc9",
         "9d15c45bd934a8033c40616b3ddef25c8bea28f21a01d81e53c43da0",
         "classic_bike",
         "0",
         33
        ],
        [
         "295476889D9B79F8",
         19618,
         "18003",
         "18003",
         "767bdcd8c407f908bceb05078816f6c1093eb8a2055a5c75886138bc",
         "c7b694528a1bd30aefbe9b4a5df8aa72ce5bb95e9743482b56b6460e",
         "classic_bike",
         "1",
         23
        ],
        [
         "362087194BA4CC9A",
         16732,
         "KP1705001026",
         "KP1705001026",
         "515c207c74570ae7604f5f1691d78152f8faec96176b0ddc7cec7ded",
         "85b89f6be54c6363dc0e430a14cf5cdb1cb540350b02372165db5b5f",
         "classic_bike",
         "22",
         19
        ],
        [
         "21630F715038CCB0",
         57068,
         "KP1705001026",
         "KP1705001026",
         "8984f3e053e5c7022018cbcdf95910dda4c6438f5a75b558d007a78e",
         "2ba4d6d736aa9c5bbadf014523a953ee5e6d681b24a8c22a430d19ce",
         "classic_bike",
         "17",
         47
        ]
       ],
       "datasetInfos": [],
       "dbfsResultPath": null,
       "isJsonSchema": true,
       "metadata": {},
       "overflow": false,
       "plotOptions": {
        "customPlotOptions": {},
        "displayType": "table",
        "pivotAggregation": null,
        "pivotColumns": null,
        "xColumns": null,
        "yColumns": null
       },
       "removedWidgets": [],
       "schema": [
        {
         "metadata": "{\"__CHAR_VARCHAR_TYPE_STRING\":\"varchar(255)\"}",
         "name": "id",
         "type": "\"string\""
        },
        {
         "metadata": "{}",
         "name": "rider_id",
         "type": "\"integer\""
        },
        {
         "metadata": "{\"__CHAR_VARCHAR_TYPE_STRING\":\"varchar(255)\"}",
         "name": "start_station_id",
         "type": "\"string\""
        },
        {
         "metadata": "{\"__CHAR_VARCHAR_TYPE_STRING\":\"varchar(255)\"}",
         "name": "end_station_id",
         "type": "\"string\""
        },
        {
         "metadata": "{\"__CHAR_VARCHAR_TYPE_STRING\":\"varchar(255)\"}",
         "name": "start_date_id",
         "type": "\"string\""
        },
        {
         "metadata": "{\"__CHAR_VARCHAR_TYPE_STRING\":\"varchar(255)\"}",
         "name": "end_date_id",
         "type": "\"string\""
        },
        {
         "metadata": "{}",
         "name": "rideable_type",
         "type": "\"string\""
        },
        {
         "metadata": "{}",
         "name": "duration",
         "type": "\"decimal(10,0)\""
        },
        {
         "metadata": "{}",
         "name": "age_of_rider",
         "type": "\"integer\""
        }
       ],
       "type": "table"
      }
     },
     "output_type": "display_data"
    }
   ],
   "source": [
    "%sql\n",
    "select * from fact_trip limit 10;"
   ]
  },
  {
   "cell_type": "code",
   "execution_count": 0,
   "metadata": {
    "application/vnd.databricks.v1+cell": {
     "cellMetadata": {
      "byteLimit": 2048000,
      "implicitDf": true,
      "rowLimit": 10000
     },
     "inputWidgets": {},
     "nuid": "49ffbb51-1087-4fce-affc-9c259a8f15e2",
     "showTitle": false,
     "title": ""
    }
   },
   "outputs": [
    {
     "output_type": "display_data",
     "data": {
      "text/html": [
       "<style scoped>\n",
       "  .table-result-container {\n",
       "    max-height: 300px;\n",
       "    overflow: auto;\n",
       "  }\n",
       "  table, th, td {\n",
       "    border: 1px solid black;\n",
       "    border-collapse: collapse;\n",
       "  }\n",
       "  th, td {\n",
       "    padding: 5px;\n",
       "  }\n",
       "  th {\n",
       "    text-align: left;\n",
       "  }\n",
       "</style><div class='table-result-container'><table class='table-result'><thead style='background-color: white'><tr></tr></thead><tbody></tbody></table></div>"
      ]
     },
     "metadata": {
      "application/vnd.databricks.v1+output": {
       "addedWidgets": {},
       "aggData": [],
       "aggError": "",
       "aggOverflow": false,
       "aggSchema": [],
       "aggSeriesLimitReached": false,
       "aggType": "",
       "arguments": {},
       "columnCustomDisplayInfos": {},
       "data": [],
       "datasetInfos": [],
       "dbfsResultPath": null,
       "isJsonSchema": true,
       "metadata": {},
       "overflow": false,
       "plotOptions": {
        "customPlotOptions": {},
        "displayType": "table",
        "pivotAggregation": null,
        "pivotColumns": null,
        "xColumns": null,
        "yColumns": null
       },
       "removedWidgets": [],
       "schema": [],
       "type": "table"
      }
     },
     "output_type": "display_data"
    }
   ],
   "source": [
    "%sql\n",
    "truncate table fact_trip"
   ]
  }
 ],
 "metadata": {
  "application/vnd.databricks.v1+notebook": {
   "dashboards": [],
   "language": "python",
   "notebookMetadata": {
    "mostRecentlyExecutedCommandWithImplicitDF": {
     "commandId": 2043866835752502,
     "dataframes": [
      "_sqldf"
     ]
    },
    "pythonIndentUnit": 4
   },
   "notebookName": "fill_fact_trips",
   "widgets": {}
  }
 },
 "nbformat": 4,
 "nbformat_minor": 0
}
