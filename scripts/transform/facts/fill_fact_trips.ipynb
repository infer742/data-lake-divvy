{
 "cells": [
  {
   "cell_type": "code",
   "execution_count": null,
   "metadata": {
    "application/vnd.databricks.v1+cell": {
     "cellMetadata": {
      "byteLimit": 2048000,
      "implicitDf": true,
      "rowLimit": 10000
     },
     "inputWidgets": {},
     "nuid": "04d8ca06-2c5e-4174-a94d-2fb7f4072f3e",
     "showTitle": false,
     "title": ""
    }
   },
   "outputs": [],
   "source": [
    "%sql\n",
    "insert into fact_trip\n",
    "(\n",
    "  select t.trip_id as id,\n",
    "  t.rider_id,\n",
    "  t.start_station_id,\n",
    "  t.end_station_id,\n",
    "  sha2(encode(t.started_at, \"UTF-8\"), 224) as start_date_id,\n",
    "  sha2(encode(t.ended_at, \"UTF-8\"), 224) as end_date_id,\n",
    "  t.rideable_type,\n",
    "  datediff (second, t.started_at, t.ended_at) / 60 as duration,\n",
    "  floor (months_between (t.started_at, r.birthday) / 12) as age_of_rider\n",
    "  from trips t\n",
    "  join riders r on (t.rider_id = r.rider_id)\n",
    "  join stations start on (t.start_station_id = start.station_id)\n",
    "  join stations end on (t.end_station_id = end.station_id)\n",
    ")"
   ]
  },
  {
   "cell_type": "code",
   "execution_count": null,
   "metadata": {
    "application/vnd.databricks.v1+cell": {
     "cellMetadata": {
      "byteLimit": 2048000,
      "implicitDf": true,
      "rowLimit": 10000
     },
     "inputWidgets": {},
     "nuid": "42e649e2-e030-4cd2-a8e6-f84472fa1d34",
     "showTitle": false,
     "title": ""
    }
   },
   "outputs": [],
   "source": [
    "%sql\n",
    "select * from fact_trip limit 10;"
   ]
  }
 ],
 "metadata": {
  "application/vnd.databricks.v1+notebook": {
   "dashboards": [],
   "language": "python",
   "notebookMetadata": {
    "mostRecentlyExecutedCommandWithImplicitDF": {
     "commandId": 2043866835752502,
     "dataframes": [
      "_sqldf"
     ]
    },
    "pythonIndentUnit": 4
   },
   "notebookName": "fill_fact_trips",
   "widgets": {}
  },
  "language_info": {
   "name": "python"
  }
 },
 "nbformat": 4,
 "nbformat_minor": 0
}
