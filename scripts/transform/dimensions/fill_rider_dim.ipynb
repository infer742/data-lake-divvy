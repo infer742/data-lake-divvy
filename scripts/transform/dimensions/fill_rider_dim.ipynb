{
 "cells": [
  {
   "cell_type": "code",
   "execution_count": null,
   "metadata": {
    "application/vnd.databricks.v1+cell": {
     "cellMetadata": {
      "byteLimit": 2048000,
      "implicitDf": true,
      "rowLimit": 10000
     },
     "inputWidgets": {},
     "nuid": "1bd20db1-ac70-4dd0-89fd-77f453298ea5",
     "showTitle": false,
     "title": ""
    }
   },
   "outputs": [],
   "source": [
    "rider_stats = spark.sql(\n",
    "    \"\"\"\n",
    "    SELECT rider_id, MONTH(started_at) as month, YEAR(started_at) as year, count(*) as num_rides, AVG( DATEDIFF (minute, started_at, ended_at)) as minutes_spent\n",
    "    FROM trips\n",
    "    GROUP by rider_id, MONTH(started_at), YEAR(started_at);\n",
    "    \"\"\"\n",
    ")\n",
    "rider_stats.createOrReplaceTempView(\"rider_stats\")"
   ]
  },
  {
   "cell_type": "code",
   "execution_count": null,
   "metadata": {
    "application/vnd.databricks.v1+cell": {
     "cellMetadata": {
      "byteLimit": 2048000,
      "rowLimit": 10000
     },
     "inputWidgets": {},
     "nuid": "c2dadd8f-c32b-4373-9b45-d1f1daa54162",
     "showTitle": false,
     "title": ""
    }
   },
   "outputs": [
    {
     "name": "stdout",
     "output_type": "stream",
     "text": [
      "Row(rider_id='45273', avg_rides_month=8.090909090909092, avg_time_spent_month=13.65671979535616)"
     ]
    }
   ],
   "source": [
    "rider_stats_month = spark.sql(\n",
    "\"\"\"\n",
    "    SELECT rider_id, avg(num_rides) as avg_rides_month,\n",
    "     avg(minutes_spent) as avg_time_spent_month\n",
    "    from rider_stats\n",
    "    GROUP BY rider_id\n",
    "\"\"\"\n",
    ")\n",
    "display(rider_stats_month.head())\n",
    "rider_stats_month.createOrReplaceTempView(\"rider_stats_month\")"
   ]
  },
  {
   "cell_type": "code",
   "execution_count": null,
   "metadata": {
    "application/vnd.databricks.v1+cell": {
     "cellMetadata": {
      "byteLimit": 2048000,
      "implicitDf": true,
      "rowLimit": 10000
     },
     "inputWidgets": {},
     "nuid": "502b6fba-1b31-4f9d-b607-76292c6a4a06",
     "showTitle": false,
     "title": ""
    }
   },
   "outputs": [
    {
     "data": {
      "text/html": [
       "<style scoped>\n",
       "  .table-result-container {\n",
       "    max-height: 300px;\n",
       "    overflow: auto;\n",
       "  }\n",
       "  table, th, td {\n",
       "    border: 1px solid black;\n",
       "    border-collapse: collapse;\n",
       "  }\n",
       "  th, td {\n",
       "    padding: 5px;\n",
       "  }\n",
       "  th {\n",
       "    text-align: left;\n",
       "  }\n",
       "</style><div class='table-result-container'><table class='table-result'><thead style='background-color: white'><tr><th>num_affected_rows</th><th>num_inserted_rows</th></tr></thead><tbody><tr><td>37709</td><td>37709</td></tr></tbody></table></div>"
      ]
     },
     "metadata": {
      "application/vnd.databricks.v1+output": {
       "addedWidgets": {},
       "aggData": [],
       "aggError": "",
       "aggOverflow": false,
       "aggSchema": [],
       "aggSeriesLimitReached": false,
       "aggType": "",
       "arguments": {},
       "columnCustomDisplayInfos": {},
       "data": [
        [
         37709,
         37709
        ]
       ],
       "datasetInfos": [],
       "dbfsResultPath": null,
       "isJsonSchema": true,
       "metadata": {},
       "overflow": false,
       "plotOptions": {
        "customPlotOptions": {},
        "displayType": "table",
        "pivotAggregation": null,
        "pivotColumns": null,
        "xColumns": null,
        "yColumns": null
       },
       "removedWidgets": [],
       "schema": [
        {
         "metadata": "{}",
         "name": "num_affected_rows",
         "type": "\"long\""
        },
        {
         "metadata": "{}",
         "name": "num_inserted_rows",
         "type": "\"long\""
        }
       ],
       "type": "table"
      }
     },
     "output_type": "display_data"
    }
   ],
   "source": [
    "%sql\n",
    "insert into dim_rider\n",
    "(\n",
    "  select riders.rider_id as id,\n",
    "  first as firstname,\n",
    "  last as lastname,\n",
    "  address,\n",
    "  birthday,\n",
    "  account_start_date,\n",
    "  account_end_date,\n",
    "  is_member,\n",
    "  avg_rides_month,\n",
    "  avg_time_spent_month,\n",
    "  int (DATEDIFF(year, birthday, account_start_date)) \n",
    "  as rider_age_account_start\n",
    "  from riders \n",
    "  join rider_stats_month on (riders.rider_id = rider_stats_month.rider_id)\n",
    ")"
   ]
  },
  {
   "cell_type": "code",
   "execution_count": null,
   "metadata": {
    "application/vnd.databricks.v1+cell": {
     "cellMetadata": {
      "byteLimit": 2048000,
      "implicitDf": true,
      "rowLimit": 10000
     },
     "inputWidgets": {},
     "nuid": "d825a1c1-a7ae-4463-91a7-65f2ef55bc85",
     "showTitle": false,
     "title": ""
    }
   },
   "outputs": [
    {
     "data": {
      "text/html": [
       "<style scoped>\n",
       "  .table-result-container {\n",
       "    max-height: 300px;\n",
       "    overflow: auto;\n",
       "  }\n",
       "  table, th, td {\n",
       "    border: 1px solid black;\n",
       "    border-collapse: collapse;\n",
       "  }\n",
       "  th, td {\n",
       "    padding: 5px;\n",
       "  }\n",
       "  th {\n",
       "    text-align: left;\n",
       "  }\n",
       "</style><div class='table-result-container'><table class='table-result'><thead style='background-color: white'><tr><th>id</th><th>firstname</th><th>lastname</th><th>address</th><th>birthday</th><th>account_start_date</th><th>account_end_date</th><th>is_member</th><th>avg_rides_month</th><th>avg_time_spent_month</th></tr></thead><tbody><tr><td>45273</td><td>Robert</td><td>Ferguson</td><td>1703 Mayer Mission Apt. 363</td><td>1983-03-15</td><td>2020-12-05</td><td>null</td><td>true</td><td>8</td><td>14</td></tr><tr><td>60822</td><td>Brad</td><td>Webb</td><td>07339 Powers Highway</td><td>1981-08-03</td><td>2022-01-24</td><td>null</td><td>true</td><td>17</td><td>14</td></tr><tr><td>40726</td><td>Sara</td><td>Mckinney</td><td>2417 Maria Isle</td><td>1988-06-25</td><td>2018-11-18</td><td>null</td><td>true</td><td>6</td><td>14</td></tr><tr><td>35374</td><td>Elizabeth</td><td>Taylor</td><td>707 Jason Mountain</td><td>1996-10-19</td><td>2021-12-26</td><td>null</td><td>true</td><td>1</td><td>21</td></tr><tr><td>52800</td><td>Tyler</td><td>Myers</td><td>996 Alison Island Suite 177</td><td>2000-04-28</td><td>2021-06-13</td><td>2022-01-01</td><td>false</td><td>5</td><td>17</td></tr><tr><td>58744</td><td>Barbara</td><td>Giles</td><td>490 Hopkins Falls Suite 366</td><td>2006-01-19</td><td>2016-12-11</td><td>null</td><td>true</td><td>5</td><td>15</td></tr><tr><td>57112</td><td>Desiree</td><td>Miller</td><td>7837 Alexander Crossing Apt. 143</td><td>2001-10-04</td><td>2020-01-07</td><td>null</td><td>true</td><td>22</td><td>17</td></tr><tr><td>57904</td><td>Brandon</td><td>Hill</td><td>8626 Chandler Mount Apt. 610</td><td>2004-02-10</td><td>2015-09-09</td><td>null</td><td>false</td><td>26</td><td>16</td></tr><tr><td>55371</td><td>Susan</td><td>Brown</td><td>89646 Harris Plains</td><td>2004-04-04</td><td>2019-03-24</td><td>null</td><td>true</td><td>3</td><td>16</td></tr><tr><td>8304</td><td>Robin</td><td>Wilson</td><td>43332 Larry Cape Apt. 567</td><td>1990-09-26</td><td>2021-04-21</td><td>null</td><td>true</td><td>1</td><td>67</td></tr></tbody></table></div>"
      ]
     },
     "metadata": {
      "application/vnd.databricks.v1+output": {
       "addedWidgets": {},
       "aggData": [],
       "aggError": "",
       "aggOverflow": false,
       "aggSchema": [],
       "aggSeriesLimitReached": false,
       "aggType": "",
       "arguments": {},
       "columnCustomDisplayInfos": {},
       "data": [
        [
         45273,
         "Robert",
         "Ferguson",
         "1703 Mayer Mission Apt. 363",
         "1983-03-15",
         "2020-12-05",
         null,
         true,
         "8",
         "14"
        ],
        [
         60822,
         "Brad",
         "Webb",
         "07339 Powers Highway",
         "1981-08-03",
         "2022-01-24",
         null,
         true,
         "17",
         "14"
        ],
        [
         40726,
         "Sara",
         "Mckinney",
         "2417 Maria Isle",
         "1988-06-25",
         "2018-11-18",
         null,
         true,
         "6",
         "14"
        ],
        [
         35374,
         "Elizabeth",
         "Taylor",
         "707 Jason Mountain",
         "1996-10-19",
         "2021-12-26",
         null,
         true,
         "1",
         "21"
        ],
        [
         52800,
         "Tyler",
         "Myers",
         "996 Alison Island Suite 177",
         "2000-04-28",
         "2021-06-13",
         "2022-01-01",
         false,
         "5",
         "17"
        ],
        [
         58744,
         "Barbara",
         "Giles",
         "490 Hopkins Falls Suite 366",
         "2006-01-19",
         "2016-12-11",
         null,
         true,
         "5",
         "15"
        ],
        [
         57112,
         "Desiree",
         "Miller",
         "7837 Alexander Crossing Apt. 143",
         "2001-10-04",
         "2020-01-07",
         null,
         true,
         "22",
         "17"
        ],
        [
         57904,
         "Brandon",
         "Hill",
         "8626 Chandler Mount Apt. 610",
         "2004-02-10",
         "2015-09-09",
         null,
         false,
         "26",
         "16"
        ],
        [
         55371,
         "Susan",
         "Brown",
         "89646 Harris Plains",
         "2004-04-04",
         "2019-03-24",
         null,
         true,
         "3",
         "16"
        ],
        [
         8304,
         "Robin",
         "Wilson",
         "43332 Larry Cape Apt. 567",
         "1990-09-26",
         "2021-04-21",
         null,
         true,
         "1",
         "67"
        ]
       ],
       "datasetInfos": [],
       "dbfsResultPath": null,
       "isJsonSchema": true,
       "metadata": {},
       "overflow": false,
       "plotOptions": {
        "customPlotOptions": {},
        "displayType": "table",
        "pivotAggregation": null,
        "pivotColumns": null,
        "xColumns": null,
        "yColumns": null
       },
       "removedWidgets": [],
       "schema": [
        {
         "metadata": "{}",
         "name": "id",
         "type": "\"integer\""
        },
        {
         "metadata": "{\"__CHAR_VARCHAR_TYPE_STRING\":\"varchar(255)\"}",
         "name": "firstname",
         "type": "\"string\""
        },
        {
         "metadata": "{\"__CHAR_VARCHAR_TYPE_STRING\":\"varchar(255)\"}",
         "name": "lastname",
         "type": "\"string\""
        },
        {
         "metadata": "{\"__CHAR_VARCHAR_TYPE_STRING\":\"varchar(255)\"}",
         "name": "address",
         "type": "\"string\""
        },
        {
         "metadata": "{}",
         "name": "birthday",
         "type": "\"date\""
        },
        {
         "metadata": "{}",
         "name": "account_start_date",
         "type": "\"date\""
        },
        {
         "metadata": "{}",
         "name": "account_end_date",
         "type": "\"date\""
        },
        {
         "metadata": "{}",
         "name": "is_member",
         "type": "\"boolean\""
        },
        {
         "metadata": "{}",
         "name": "avg_rides_month",
         "type": "\"decimal(10,0)\""
        },
        {
         "metadata": "{}",
         "name": "avg_time_spent_month",
         "type": "\"decimal(10,0)\""
        }
       ],
       "type": "table"
      }
     },
     "output_type": "display_data"
    }
   ],
   "source": [
    "%sql\n",
    "select * from dim_rider limit 10"
   ]
  }
 ],
 "metadata": {
  "application/vnd.databricks.v1+notebook": {
   "dashboards": [],
   "language": "python",
   "notebookMetadata": {
    "mostRecentlyExecutedCommandWithImplicitDF": {
     "commandId": 2043866835752490,
     "dataframes": [
      "_sqldf"
     ]
    },
    "pythonIndentUnit": 4
   },
   "notebookName": "fill_rider_dim",
   "widgets": {}
  },
  "language_info": {
   "name": "python"
  }
 },
 "nbformat": 4,
 "nbformat_minor": 0
}
