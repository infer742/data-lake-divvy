{
 "cells": [
  {
   "cell_type": "code",
   "execution_count": null,
   "metadata": {
    "application/vnd.databricks.v1+cell": {
     "cellMetadata": {
      "byteLimit": 2048000,
      "implicitDf": true,
      "rowLimit": 10000
     },
     "inputWidgets": {},
     "nuid": "1bd20db1-ac70-4dd0-89fd-77f453298ea5",
     "showTitle": false,
     "title": ""
    }
   },
   "outputs": [],
   "source": [
    "# compute count of rides and duration per rider, per month\n",
    "rider_stats = spark.sql(\n",
    "    \"\"\"\n",
    "    SELECT rider_id, MONTH(started_at) as month, YEAR(started_at) as year, count(*) as num_rides, AVG( DATEDIFF (seconds, started_at, ended_at)) * 60 as minutes_spent\n",
    "    FROM trips\n",
    "    GROUP by rider_id, MONTH(started_at), YEAR(started_at);\n",
    "    \"\"\"\n",
    ")\n",
    "rider_stats.createOrReplaceTempView(\"rider_stats\")"
   ]
  },
  {
   "cell_type": "code",
   "execution_count": null,
   "metadata": {
    "application/vnd.databricks.v1+cell": {
     "cellMetadata": {
      "byteLimit": 2048000,
      "rowLimit": 10000
     },
     "inputWidgets": {},
     "nuid": "c2dadd8f-c32b-4373-9b45-d1f1daa54162",
     "showTitle": false,
     "title": ""
    }
   },
   "outputs": [],
   "source": [
    "# average statistics over months\n",
    "rider_stats_month = spark.sql(\n",
    "\"\"\"\n",
    "    SELECT rider_id, avg(num_rides) as avg_rides_month,\n",
    "     avg(minutes_spent) as avg_time_spent_month\n",
    "    from rider_stats\n",
    "    GROUP BY rider_id\n",
    "\"\"\"\n",
    ")\n",
    "display(rider_stats_month.head())\n",
    "rider_stats_month.createOrReplaceTempView(\"rider_stats_month\")"
   ]
  },
  {
   "cell_type": "code",
   "execution_count": null,
   "metadata": {
    "application/vnd.databricks.v1+cell": {
     "cellMetadata": {
      "byteLimit": 2048000,
      "implicitDf": true,
      "rowLimit": 10000
     },
     "inputWidgets": {},
     "nuid": "502b6fba-1b31-4f9d-b607-76292c6a4a06",
     "showTitle": false,
     "title": ""
    }
   },
   "outputs": [],
   "source": [
    "%sql\n",
    "insert into dim_rider\n",
    "(\n",
    "  select riders.rider_id as id,\n",
    "  first as firstname,\n",
    "  last as lastname,\n",
    "  address,\n",
    "  birthday,\n",
    "  account_start_date,\n",
    "  account_end_date,\n",
    "  is_member,\n",
    "  avg_rides_month,\n",
    "  avg_time_spent_month,\n",
    "  floor (months_between (birthday, account_start_date) / 12)\n",
    "  as rider_age_account_start\n",
    "  from riders \n",
    "  join rider_stats_month on (riders.rider_id = rider_stats_month.rider_id)\n",
    ")"
   ]
  },
  {
   "cell_type": "code",
   "execution_count": null,
   "metadata": {
    "application/vnd.databricks.v1+cell": {
     "cellMetadata": {
      "byteLimit": 2048000,
      "implicitDf": true,
      "rowLimit": 10000
     },
     "inputWidgets": {},
     "nuid": "d825a1c1-a7ae-4463-91a7-65f2ef55bc85",
     "showTitle": false,
     "title": ""
    }
   },
   "outputs": [],
   "source": [
    "%sql\n",
    "select * from dim_rider limit 10"
   ]
  }
 ],
 "metadata": {
  "application/vnd.databricks.v1+notebook": {
   "dashboards": [],
   "language": "python",
   "notebookMetadata": {
    "mostRecentlyExecutedCommandWithImplicitDF": {
     "commandId": 2043866835752490,
     "dataframes": [
      "_sqldf"
     ]
    },
    "pythonIndentUnit": 4
   },
   "notebookName": "fill_rider_dim",
   "widgets": {}
  },
  "language_info": {
   "name": "python"
  }
 },
 "nbformat": 4,
 "nbformat_minor": 0
}
