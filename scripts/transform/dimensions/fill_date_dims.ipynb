{
 "cells": [
  {
   "cell_type": "markdown",
   "metadata": {
    "application/vnd.databricks.v1+cell": {
     "cellMetadata": {
      "byteLimit": 2048000,
      "rowLimit": 10000
     },
     "inputWidgets": {},
     "nuid": "4323e61a-075c-446f-b43a-7b39df36d0d6",
     "showTitle": false,
     "title": ""
    }
   },
   "source": [
    "# Fill the date dimensions with values"
   ]
  },
  {
   "cell_type": "code",
   "execution_count": null,
   "metadata": {
    "application/vnd.databricks.v1+cell": {
     "cellMetadata": {
      "byteLimit": 2048000,
      "rowLimit": 10000
     },
     "inputWidgets": {},
     "nuid": "30ac57f7-3e00-46cc-9284-004c5ea54e08",
     "showTitle": false,
     "title": ""
    }
   },
   "outputs": [],
   "source": [
    "from pyspark.sql.functions import sha2, encode"
   ]
  },
  {
   "cell_type": "code",
   "execution_count": null,
   "metadata": {
    "application/vnd.databricks.v1+cell": {
     "cellMetadata": {
      "byteLimit": 2048000,
      "rowLimit": 10000
     },
     "inputWidgets": {},
     "nuid": "67bb0506-c368-4e9f-8da6-be559e3f382f",
     "showTitle": false,
     "title": ""
    }
   },
   "outputs": [],
   "source": [
    "# taken from https://www.bluegranite.com/blog/generate-a-calendar-dimension-in-spark\n",
    "from pyspark.sql.functions import explode, sequence, to_date\n",
    "\n",
    "beginDate = '2010-01-01 00:00:00'\n",
    "endDate = '2030-12-31 00:00:00'\n",
    "\n",
    "(\n",
    "  spark.sql(f\"select explode(sequence(to_timestamp('{beginDate}'), to_timestamp('{endDate}'), interval 1 hour)) as calendarDate\")\n",
    "    .createOrReplaceTempView('dates')\n",
    ")"
   ]
  },
  {
   "cell_type": "code",
   "execution_count": null,
   "metadata": {
    "application/vnd.databricks.v1+cell": {
     "cellMetadata": {
      "byteLimit": 2048000,
      "implicitDf": true,
      "rowLimit": 10000
     },
     "inputWidgets": {},
     "nuid": "8ced6676-0001-401d-9c0f-b9498df3adc7",
     "showTitle": false,
     "title": ""
    }
   },
   "outputs": [
    {
     "data": {
      "text/html": [
       "<style scoped>\n",
       "  .table-result-container {\n",
       "    max-height: 300px;\n",
       "    overflow: auto;\n",
       "  }\n",
       "  table, th, td {\n",
       "    border: 1px solid black;\n",
       "    border-collapse: collapse;\n",
       "  }\n",
       "  th, td {\n",
       "    padding: 5px;\n",
       "  }\n",
       "  th {\n",
       "    text-align: left;\n",
       "  }\n",
       "</style><div class='table-result-container'><table class='table-result'><thead style='background-color: white'><tr><th>calendarDate</th></tr></thead><tbody><tr><td>2010-01-01T00:00:00.000+0000</td></tr><tr><td>2010-01-01T01:00:00.000+0000</td></tr><tr><td>2010-01-01T02:00:00.000+0000</td></tr><tr><td>2010-01-01T03:00:00.000+0000</td></tr><tr><td>2010-01-01T04:00:00.000+0000</td></tr><tr><td>2010-01-01T05:00:00.000+0000</td></tr><tr><td>2010-01-01T06:00:00.000+0000</td></tr><tr><td>2010-01-01T07:00:00.000+0000</td></tr><tr><td>2010-01-01T08:00:00.000+0000</td></tr><tr><td>2010-01-01T09:00:00.000+0000</td></tr></tbody></table></div>"
      ]
     },
     "metadata": {
      "application/vnd.databricks.v1+output": {
       "addedWidgets": {},
       "aggData": [],
       "aggError": "",
       "aggOverflow": false,
       "aggSchema": [],
       "aggSeriesLimitReached": false,
       "aggType": "",
       "arguments": {},
       "columnCustomDisplayInfos": {},
       "data": [
        [
         "2010-01-01T00:00:00.000+0000"
        ],
        [
         "2010-01-01T01:00:00.000+0000"
        ],
        [
         "2010-01-01T02:00:00.000+0000"
        ],
        [
         "2010-01-01T03:00:00.000+0000"
        ],
        [
         "2010-01-01T04:00:00.000+0000"
        ],
        [
         "2010-01-01T05:00:00.000+0000"
        ],
        [
         "2010-01-01T06:00:00.000+0000"
        ],
        [
         "2010-01-01T07:00:00.000+0000"
        ],
        [
         "2010-01-01T08:00:00.000+0000"
        ],
        [
         "2010-01-01T09:00:00.000+0000"
        ]
       ],
       "datasetInfos": [],
       "dbfsResultPath": null,
       "isJsonSchema": true,
       "metadata": {},
       "overflow": false,
       "plotOptions": {
        "customPlotOptions": {},
        "displayType": "table",
        "pivotAggregation": null,
        "pivotColumns": null,
        "xColumns": null,
        "yColumns": null
       },
       "removedWidgets": [],
       "schema": [
        {
         "metadata": "{}",
         "name": "calendarDate",
         "type": "\"timestamp\""
        }
       ],
       "type": "table"
      }
     },
     "output_type": "display_data"
    }
   ],
   "source": [
    "%sql\n",
    "select * from dates limit 10;"
   ]
  },
  {
   "cell_type": "code",
   "execution_count": null,
   "metadata": {
    "application/vnd.databricks.v1+cell": {
     "cellMetadata": {
      "byteLimit": 2048000,
      "implicitDf": true,
      "rowLimit": 10000
     },
     "inputWidgets": {},
     "nuid": "fa3e9b4d-17dc-4e1e-9e1e-4e962c86a4a4",
     "showTitle": false,
     "title": ""
    }
   },
   "outputs": [
    {
     "data": {
      "text/html": [
       "<style scoped>\n",
       "  .table-result-container {\n",
       "    max-height: 300px;\n",
       "    overflow: auto;\n",
       "  }\n",
       "  table, th, td {\n",
       "    border: 1px solid black;\n",
       "    border-collapse: collapse;\n",
       "  }\n",
       "  th, td {\n",
       "    padding: 5px;\n",
       "  }\n",
       "  th {\n",
       "    text-align: left;\n",
       "  }\n",
       "</style><div class='table-result-container'><table class='table-result'><thead style='background-color: white'><tr><th>num_affected_rows</th><th>num_inserted_rows</th></tr></thead><tbody><tr><td>184057</td><td>184057</td></tr></tbody></table></div>"
      ]
     },
     "metadata": {
      "application/vnd.databricks.v1+output": {
       "addedWidgets": {},
       "aggData": [],
       "aggError": "",
       "aggOverflow": false,
       "aggSchema": [],
       "aggSeriesLimitReached": false,
       "aggType": "",
       "arguments": {},
       "columnCustomDisplayInfos": {},
       "data": [
        [
         184057,
         184057
        ]
       ],
       "datasetInfos": [],
       "dbfsResultPath": null,
       "isJsonSchema": true,
       "metadata": {},
       "overflow": false,
       "plotOptions": {
        "customPlotOptions": {},
        "displayType": "table",
        "pivotAggregation": null,
        "pivotColumns": null,
        "xColumns": null,
        "yColumns": null
       },
       "removedWidgets": [],
       "schema": [
        {
         "metadata": "{}",
         "name": "num_affected_rows",
         "type": "\"long\""
        },
        {
         "metadata": "{}",
         "name": "num_inserted_rows",
         "type": "\"long\""
        }
       ],
       "type": "table"
      }
     },
     "output_type": "display_data"
    }
   ],
   "source": [
    "%sql \n",
    "INSERT INTO dim_date \n",
    " (\n",
    "  select sha2(encode(calendarDate, \"UTF-8\"), 224) as id,\n",
    "  calendarDate as date,\n",
    "  hour(calendarDate) as hour,\n",
    "  day(calendarDate) as day,\n",
    "  dayofweek(calendarDate) as day_of_week,\n",
    "  weekofyear(calendarDate) as week,\n",
    "  month(calendarDate) as month,\n",
    "  quarter(calendarDate) as quarter,\n",
    "  year(calendarDate) as year\n",
    "  from dates\n",
    " )\n"
   ]
  }
 ],
 "metadata": {
  "application/vnd.databricks.v1+notebook": {
   "dashboards": [],
   "language": "python",
   "notebookMetadata": {
    "mostRecentlyExecutedCommandWithImplicitDF": {
     "commandId": 2043866835752480,
     "dataframes": [
      "_sqldf"
     ]
    },
    "pythonIndentUnit": 4
   },
   "notebookName": "fill_date_dims",
   "widgets": {}
  },
  "language_info": {
   "name": "python"
  }
 },
 "nbformat": 4,
 "nbformat_minor": 0
}
