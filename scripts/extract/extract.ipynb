{
 "cells": [
  {
   "cell_type": "code",
   "execution_count": 0,
   "metadata": {
    "application/vnd.databricks.v1+cell": {
     "cellMetadata": {
      "byteLimit": 2048000,
      "rowLimit": 10000
     },
     "inputWidgets": {},
     "nuid": "71d4fcda-a4e0-4c16-8f3b-51e3d4bfa9fe",
     "showTitle": true,
     "title": ""
    }
   },
   "outputs": [],
   "source": [
    "# extract trips\n",
    "trips_df = spark.read.format(\"csv\").load(\"/FileStore/bronze/trips.csv\", header=False)\n",
    "trips_df = trips_df.toDF('trip_id', 'rideable_type', 'started_at', 'ended_at', 'start_station_id', 'end_station_id', 'rider_id')\n",
    "\n",
    "# write to delta file system\n",
    "trips_df.write.format(\"delta\").mode(\"overwrite\")\\\n",
    "    .save(\"/delta/bronze_trips\")\n"
   ]
  },
  {
   "cell_type": "code",
   "execution_count": 0,
   "metadata": {
    "application/vnd.databricks.v1+cell": {
     "cellMetadata": {
      "byteLimit": 2048000,
      "rowLimit": 10000
     },
     "inputWidgets": {},
     "nuid": "c13fcb9b-8ec1-4550-92b5-9c4b7085b1a2",
     "showTitle": false,
     "title": ""
    }
   },
   "outputs": [],
   "source": [
    "# extract riders\n",
    "riders_df = spark.read.format(\"csv\").load(\"/FileStore/bronze/riders.csv\", header=False)\n",
    "riders_df = riders_df.toDF('rider_id','first', 'last', 'address', 'birthday', 'account_start_date', 'account_end_date', 'is_member')\n",
    "\n",
    "# write to delta file system , made spelling mistake the first time\n",
    "riders_df.write.format(\"delta\").mode(\"overwrite\")\\\n",
    "    .save(\"/delta/bronze_riders\")\n"
   ]
  },
  {
   "cell_type": "code",
   "execution_count": 0,
   "metadata": {
    "application/vnd.databricks.v1+cell": {
     "cellMetadata": {
      "byteLimit": 2048000,
      "rowLimit": 10000
     },
     "inputWidgets": {},
     "nuid": "f88661a5-7348-407e-8fae-69e24d74f454",
     "showTitle": false,
     "title": ""
    }
   },
   "outputs": [],
   "source": [
    "# extract payments\n",
    "payments_df = spark.read.format(\"csv\").load(\"/FileStore/bronze/payments.csv\", header=False)\n",
    "payments_df = payments_df.toDF('payment_id','date', 'amount', 'rider_id')\n",
    "\n",
    "# write to delta file system\n",
    "payments_df.write.format(\"delta\").mode(\"overwrite\")\\\n",
    "    .save(\"/delta/bronze_payments\")\n"
   ]
  },
  {
   "cell_type": "code",
   "execution_count": 0,
   "metadata": {
    "application/vnd.databricks.v1+cell": {
     "cellMetadata": {
      "byteLimit": 2048000,
      "rowLimit": 10000
     },
     "inputWidgets": {},
     "nuid": "ecf92608-9a97-4f6d-8fe9-e5904b58d1fb",
     "showTitle": false,
     "title": ""
    }
   },
   "outputs": [],
   "source": [
    "# extract stations\n",
    "stations_df = spark.read.format(\"csv\").load(\"/FileStore/bronze/stations.csv\", header=False)\n",
    "stations_df = stations_df.toDF('station_id','name', 'latitude', 'longitude')\n",
    "\n",
    "# write to delta file system\n",
    "stations_df.write.format(\"delta\").mode(\"overwrite\")\\\n",
    "    .save(\"/delta/bronze_stations\")\n"
   ]
  },
  {
   "cell_type": "code",
   "execution_count": 0,
   "metadata": {
    "application/vnd.databricks.v1+cell": {
     "cellMetadata": {
      "byteLimit": 2048000,
      "rowLimit": 10000
     },
     "inputWidgets": {},
     "nuid": "953c764a-d4aa-4508-a34f-fb79f1b0f77d",
     "showTitle": false,
     "title": ""
    }
   },
   "outputs": [
    {
     "output_type": "stream",
     "name": "stdout",
     "output_type": "stream",
     "text": [
      "Row(trip_id='89E7AA6C29227EFF', rideable_type='classic_bike', started_at='2021-02-12 16:14:56', ended_at='2021-02-12 16:21:43', start_station_id='525', end_station_id='660', rider_id='71934')Row(rider_id='1000', first='Diana', last='Clark', address='1200 Alyssa Squares', birhtday='1989-02-13', account_start_date='2019-04-23', account_end_date=None, is_member='True')Row(payment_id='1', date='2019-05-01', amount='9.0', trip_id='1000')Row(station_id='525', name='Glenwood Ave & Touhy Ave', latitude='42.012701', longitude='-87.66605799999999')"
     ]
    }
   ],
   "source": [
    "# verify \n",
    "display(trips_df.head())\n",
    "display(riders_df.head())\n",
    "display(payments_df.head())\n",
    "display(stations_df.head())"
   ]
  }
 ],
 "metadata": {
  "application/vnd.databricks.v1+notebook": {
   "dashboards": [],
   "language": "python",
   "notebookMetadata": {
    "pythonIndentUnit": 4
   },
   "notebookName": "extract",
   "widgets": {}
  }
 },
 "nbformat": 4,
 "nbformat_minor": 0
}
