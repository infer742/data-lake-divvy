{
 "cells": [
  {
   "cell_type": "code",
   "execution_count": 0,
   "metadata": {
    "application/vnd.databricks.v1+cell": {
     "cellMetadata": {
      "byteLimit": 2048000,
      "rowLimit": 10000
     },
     "inputWidgets": {},
     "nuid": "e6561843-63a1-4f37-a8ce-86d75faa9b9c",
     "showTitle": false,
     "title": ""
    }
   },
   "outputs": [
    {
     "output_type": "stream",
     "name": "stdout",
     "output_type": "stream",
     "text": [
      "Out[3]: DataFrame[]"
     ]
    }
   ],
   "source": [
    "# load trips into table\n",
    "spark.sql(\"CREATE TABLE trips \\\n",
    "     USING DELTA LOCATION '/delta/bronze_trips'\"\n",
    ")"
   ]
  },
  {
   "cell_type": "code",
   "execution_count": 0,
   "metadata": {
    "application/vnd.databricks.v1+cell": {
     "cellMetadata": {
      "byteLimit": 2048000,
      "rowLimit": 10000
     },
     "inputWidgets": {},
     "nuid": "5f6ea3eb-f584-4889-a386-ed25c4ee55ae",
     "showTitle": false,
     "title": ""
    }
   },
   "outputs": [
    {
     "output_type": "stream",
     "name": "stdout",
     "output_type": "stream",
     "text": [
      "+----------------+-------------+-------------------+-------------------+----------------+--------------+--------+\n|         trip_id|rideable_type|         started_at|           ended_at|start_station_id|end_station_id|rider_id|\n+----------------+-------------+-------------------+-------------------+----------------+--------------+--------+\n|89E7AA6C29227EFF| classic_bike|2021-02-12 16:14:56|2021-02-12 16:21:43|             525|           660|   71934|\n|0FEFDE2603568365| classic_bike|2021-02-14 17:52:38|2021-02-14 18:12:09|             525|         16806|   47854|\n|E6159D746B2DBB91|electric_bike|2021-02-09 19:10:18|2021-02-09 19:19:10|    KA1503000012|  TA1305000029|   70870|\n|B32D3199F1C2E75B| classic_bike|2021-02-02 17:49:41|2021-02-02 17:54:06|             637|  TA1305000034|   58974|\n|83E463F23575F4BF|electric_bike|2021-02-23 15:07:23|2021-02-23 15:22:37|           13216|  TA1309000055|   39608|\n+----------------+-------------+-------------------+-------------------+----------------+--------------+--------+\n\n"
     ]
    }
   ],
   "source": [
    "# verify\n",
    "spark.sql(\"select * from trips limit 5\").show()"
   ]
  },
  {
   "cell_type": "code",
   "execution_count": 0,
   "metadata": {
    "application/vnd.databricks.v1+cell": {
     "cellMetadata": {
      "byteLimit": 2048000,
      "rowLimit": 10000
     },
     "inputWidgets": {},
     "nuid": "bb61dd2e-99a3-4233-9dfc-d220178ac260",
     "showTitle": false,
     "title": ""
    }
   },
   "outputs": [
    {
     "output_type": "stream",
     "name": "stdout",
     "output_type": "stream",
     "text": [
      "+----------+----------+------+-------+\n|payment_id|      date|amount|trip_id|\n+----------+----------+------+-------+\n|         1|2019-05-01|   9.0|   1000|\n|         2|2019-06-01|   9.0|   1000|\n|         3|2019-07-01|   9.0|   1000|\n|         4|2019-08-01|   9.0|   1000|\n|         5|2019-09-01|   9.0|   1000|\n+----------+----------+------+-------+\n\n"
     ]
    }
   ],
   "source": [
    "# load payments into table\n",
    "spark.sql(\"CREATE TABLE if not exists payments \\\n",
    "     USING DELTA LOCATION '/delta/bronze_payments'\"\n",
    ")\n",
    "# verify\n",
    "spark.sql(\"select * from payments limit 5\").show()"
   ]
  },
  {
   "cell_type": "code",
   "execution_count": 0,
   "metadata": {
    "application/vnd.databricks.v1+cell": {
     "cellMetadata": {
      "byteLimit": 2048000,
      "rowLimit": 10000
     },
     "inputWidgets": {},
     "nuid": "bad07e58-ead7-4053-872a-f4928f252826",
     "showTitle": false,
     "title": ""
    }
   },
   "outputs": [
    {
     "output_type": "stream",
     "name": "stdout",
     "output_type": "stream",
     "text": [
      "+--------+--------+---------+--------------------+----------+------------------+----------------+---------+\n|rider_id|   first|     last|             address|  birthday|account_start_date|account_end_date|is_member|\n+--------+--------+---------+--------------------+----------+------------------+----------------+---------+\n|    1000|   Diana|    Clark| 1200 Alyssa Squares|1989-02-13|        2019-04-23|            null|     True|\n|    1001|Jennifer|    Smith|     397 Diana Ferry|1976-08-10|        2019-11-01|      2020-09-01|     True|\n|    1002|   Karen|    Smith|644 Brittany Row ...|1998-08-10|        2022-02-04|            null|     True|\n|    1003|   Bryan|  Roberts|996 Dickerson Tur...|1999-03-29|        2019-08-26|            null|    False|\n|    1004|   Jesse|Middleton|7009 Nathan Expre...|1969-04-11|        2019-09-14|            null|     True|\n+--------+--------+---------+--------------------+----------+------------------+----------------+---------+\n\n"
     ]
    }
   ],
   "source": [
    "# load riders into table\n",
    "spark.sql(\"CREATE TABLE if not exists riders \\\n",
    "     USING DELTA LOCATION '/delta/bronze_riders'\"\n",
    ")\n",
    "# verify\n",
    "spark.sql(\"select * from riders limit 5\").show()"
   ]
  },
  {
   "cell_type": "code",
   "execution_count": 0,
   "metadata": {
    "application/vnd.databricks.v1+cell": {
     "cellMetadata": {
      "byteLimit": 2048000,
      "rowLimit": 10000
     },
     "inputWidgets": {},
     "nuid": "34d2f177-ec71-485b-907a-064e7e8fb8fa",
     "showTitle": false,
     "title": ""
    }
   },
   "outputs": [
    {
     "output_type": "stream",
     "name": "stdout",
     "output_type": "stream",
     "text": [
      "+------------+--------------------+-----------------+------------------+\n|  station_id|                name|         latitude|         longitude|\n+------------+--------------------+-----------------+------------------+\n|         525|Glenwood Ave & To...|        42.012701|-87.66605799999999|\n|KA1503000012|  Clark St & Lake St|41.88579466666667|-87.63110066666668|\n|         637|Wood St & Chicago...|        41.895634|        -87.672069|\n|       13216|  State St & 33rd St|       41.8347335|       -87.6258275|\n|       18003|Fairbanks St & Su...|41.89580766666667|-87.62025316666669|\n+------------+--------------------+-----------------+------------------+\n\n"
     ]
    }
   ],
   "source": [
    "# load stations into table\n",
    "spark.sql(\"CREATE TABLE if not exists stations \\\n",
    "     USING DELTA LOCATION '/delta/bronze_stations'\"\n",
    ")\n",
    "# verify\n",
    "spark.sql(\"select * from stations limit 5\").show()"
   ]
  }
 ],
 "metadata": {
  "application/vnd.databricks.v1+notebook": {
   "dashboards": [],
   "language": "python",
   "notebookMetadata": {
    "pythonIndentUnit": 4
   },
   "notebookName": "load",
   "widgets": {}
  }
 },
 "nbformat": 4,
 "nbformat_minor": 0
}
